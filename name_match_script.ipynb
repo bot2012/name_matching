{
 "cells": [
  {
   "cell_type": "code",
   "execution_count": 3,
   "metadata": {},
   "outputs": [],
   "source": [
    "# ! pip install fuzzywuzzy\n",
    "# ! pip install pandas\n",
    "# ! pip install numpy"
   ]
  },
  {
   "cell_type": "code",
   "execution_count": 2,
   "metadata": {},
   "outputs": [],
   "source": [
    "import pandas as pd\n",
    "import numpy as np \n",
    "# import datetime"
   ]
  },
  {
   "cell_type": "code",
   "execution_count": 5,
   "metadata": {},
   "outputs": [],
   "source": [
    "# Read the file into memory\n",
    "# Assuming the file is named 'simulated_exam_records.csv'\n",
    "# dtype = str, to ensure all data is read as strings\n",
    "df = pd.read_csv('data/simulated_exam_records.csv', dtype=str)"
   ]
  },
  {
   "cell_type": "code",
   "execution_count": 6,
   "metadata": {},
   "outputs": [
    {
     "data": {
      "application/vnd.microsoft.datawrangler.viewer.v0+json": {
       "columns": [
        {
         "name": "index",
         "rawType": "int64",
         "type": "integer"
        },
        {
         "name": "AdmissionNumber",
         "rawType": "object",
         "type": "string"
        },
        {
         "name": "IndexNumber",
         "rawType": "object",
         "type": "string"
        },
        {
         "name": "ExamMonth",
         "rawType": "object",
         "type": "string"
        },
        {
         "name": "ExamYear",
         "rawType": "object",
         "type": "string"
        },
        {
         "name": "DOB_on_rec",
         "rawType": "object",
         "type": "string"
        },
        {
         "name": "CandName_on_rec",
         "rawType": "object",
         "type": "string"
        },
        {
         "name": "CandName_provided",
         "rawType": "object",
         "type": "string"
        },
        {
         "name": "DOB_provided",
         "rawType": "object",
         "type": "string"
        }
       ],
       "ref": "fc4593d9-0591-4ea1-bf60-1926fc3b0c9b",
       "rows": [
        [
         "0",
         "262576",
         "8880",
         "November",
         "2021",
         "2007-10-19",
         "Eric Hopkins",
         "Eric Hopkisn",
         "2007-10-20"
        ],
        [
         "1",
         "987434",
         "4249",
         "November",
         "2023",
         "1999-10-08",
         "Michael Bryant",
         "Alyssa Bryant",
         "1999-10-03"
        ],
        [
         "2",
         "728162",
         "6614",
         "June",
         "2020",
         "2006-06-12",
         "Erin Weaver DVM",
         "Erin Weaver DVM Christopher",
         "2006-06-12"
        ],
        [
         "3",
         "484787",
         "4531",
         "June",
         "2021",
         "2006-02-05",
         "Andrew Jackson",
         "Andrew Jackson",
         "2006-02-10"
        ],
        [
         "4",
         "449051",
         "6852",
         "November",
         "2021",
         "2003-03-27",
         "Gregory Diaz",
         "Gregory Diaz",
         "2003-03-22"
        ]
       ],
       "shape": {
        "columns": 8,
        "rows": 5
       }
      },
      "text/html": [
       "<div>\n",
       "<style scoped>\n",
       "    .dataframe tbody tr th:only-of-type {\n",
       "        vertical-align: middle;\n",
       "    }\n",
       "\n",
       "    .dataframe tbody tr th {\n",
       "        vertical-align: top;\n",
       "    }\n",
       "\n",
       "    .dataframe thead th {\n",
       "        text-align: right;\n",
       "    }\n",
       "</style>\n",
       "<table border=\"1\" class=\"dataframe\">\n",
       "  <thead>\n",
       "    <tr style=\"text-align: right;\">\n",
       "      <th></th>\n",
       "      <th>AdmissionNumber</th>\n",
       "      <th>IndexNumber</th>\n",
       "      <th>ExamMonth</th>\n",
       "      <th>ExamYear</th>\n",
       "      <th>DOB_on_rec</th>\n",
       "      <th>CandName_on_rec</th>\n",
       "      <th>CandName_provided</th>\n",
       "      <th>DOB_provided</th>\n",
       "    </tr>\n",
       "  </thead>\n",
       "  <tbody>\n",
       "    <tr>\n",
       "      <th>0</th>\n",
       "      <td>262576</td>\n",
       "      <td>8880</td>\n",
       "      <td>November</td>\n",
       "      <td>2021</td>\n",
       "      <td>2007-10-19</td>\n",
       "      <td>Eric Hopkins</td>\n",
       "      <td>Eric Hopkisn</td>\n",
       "      <td>2007-10-20</td>\n",
       "    </tr>\n",
       "    <tr>\n",
       "      <th>1</th>\n",
       "      <td>987434</td>\n",
       "      <td>4249</td>\n",
       "      <td>November</td>\n",
       "      <td>2023</td>\n",
       "      <td>1999-10-08</td>\n",
       "      <td>Michael Bryant</td>\n",
       "      <td>Alyssa Bryant</td>\n",
       "      <td>1999-10-03</td>\n",
       "    </tr>\n",
       "    <tr>\n",
       "      <th>2</th>\n",
       "      <td>728162</td>\n",
       "      <td>6614</td>\n",
       "      <td>June</td>\n",
       "      <td>2020</td>\n",
       "      <td>2006-06-12</td>\n",
       "      <td>Erin Weaver DVM</td>\n",
       "      <td>Erin Weaver DVM Christopher</td>\n",
       "      <td>2006-06-12</td>\n",
       "    </tr>\n",
       "    <tr>\n",
       "      <th>3</th>\n",
       "      <td>484787</td>\n",
       "      <td>4531</td>\n",
       "      <td>June</td>\n",
       "      <td>2021</td>\n",
       "      <td>2006-02-05</td>\n",
       "      <td>Andrew Jackson</td>\n",
       "      <td>Andrew Jackson</td>\n",
       "      <td>2006-02-10</td>\n",
       "    </tr>\n",
       "    <tr>\n",
       "      <th>4</th>\n",
       "      <td>449051</td>\n",
       "      <td>6852</td>\n",
       "      <td>November</td>\n",
       "      <td>2021</td>\n",
       "      <td>2003-03-27</td>\n",
       "      <td>Gregory Diaz</td>\n",
       "      <td>Gregory Diaz</td>\n",
       "      <td>2003-03-22</td>\n",
       "    </tr>\n",
       "  </tbody>\n",
       "</table>\n",
       "</div>"
      ],
      "text/plain": [
       "  AdmissionNumber IndexNumber ExamMonth ExamYear  DOB_on_rec  CandName_on_rec  \\\n",
       "0          262576        8880  November     2021  2007-10-19     Eric Hopkins   \n",
       "1          987434        4249  November     2023  1999-10-08   Michael Bryant   \n",
       "2          728162        6614      June     2020  2006-06-12  Erin Weaver DVM   \n",
       "3          484787        4531      June     2021  2006-02-05   Andrew Jackson   \n",
       "4          449051        6852  November     2021  2003-03-27     Gregory Diaz   \n",
       "\n",
       "             CandName_provided DOB_provided  \n",
       "0                 Eric Hopkisn   2007-10-20  \n",
       "1                Alyssa Bryant   1999-10-03  \n",
       "2  Erin Weaver DVM Christopher   2006-06-12  \n",
       "3               Andrew Jackson   2006-02-10  \n",
       "4                 Gregory Diaz   2003-03-22  "
      ]
     },
     "execution_count": 6,
     "metadata": {},
     "output_type": "execute_result"
    }
   ],
   "source": [
    "# Check the first few rows of the DataFrame\n",
    "df.head()"
   ]
  },
  {
   "cell_type": "code",
   "execution_count": null,
   "metadata": {},
   "outputs": [],
   "source": [
    "# df['DOB_provided'] = pd.to_datetime(df['DOB_provided'], errors='raise',yearfirst=True)"
   ]
  },
  {
   "cell_type": "code",
   "execution_count": null,
   "metadata": {},
   "outputs": [],
   "source": [
    "df.head()"
   ]
  },
  {
   "cell_type": "code",
   "execution_count": null,
   "metadata": {},
   "outputs": [],
   "source": [
    "# Convert 'DOB_provided' to datetime format\n",
    "# df['DOB_provided'] = df['DOB_provided'].dt.strftime('%d-%m-%Y')"
   ]
  },
  {
   "cell_type": "code",
   "execution_count": null,
   "metadata": {},
   "outputs": [],
   "source": [
    "# Count the number of missing in DOB_provided column\n",
    "df['DOB_provided'].isna().value_counts()"
   ]
  },
  {
   "cell_type": "code",
   "execution_count": null,
   "metadata": {},
   "outputs": [],
   "source": [
    "df[df['DOB_provided'].isna()]"
   ]
  },
  {
   "cell_type": "code",
   "execution_count": null,
   "metadata": {},
   "outputs": [],
   "source": [
    "df['DOB_on_rec'].dtype"
   ]
  },
  {
   "cell_type": "code",
   "execution_count": null,
   "metadata": {},
   "outputs": [],
   "source": [
    "df['DOB_on_rec']"
   ]
  },
  {
   "cell_type": "code",
   "execution_count": null,
   "metadata": {},
   "outputs": [],
   "source": [
    "# df['DOB'] = df['DOB'].dt.strftime('%d-%m-%Y')"
   ]
  },
  {
   "cell_type": "code",
   "execution_count": null,
   "metadata": {},
   "outputs": [],
   "source": [
    "df.head()"
   ]
  },
  {
   "cell_type": "code",
   "execution_count": null,
   "metadata": {},
   "outputs": [],
   "source": [
    "df[df['DOB_on_rec'].isna()]"
   ]
  },
  {
   "cell_type": "code",
   "execution_count": null,
   "metadata": {},
   "outputs": [],
   "source": [
    "df.info()\n"
   ]
  },
  {
   "cell_type": "markdown",
   "metadata": {},
   "source": [
    "## Sorting based on the Status column; whether \n",
    "- COMPLETE MIS-MATCH\n",
    "- 1 COMPLETE MIS-MATCH\n",
    "- 2 COMPLETE MIS-MATCH\n",
    "- 3 COMPLETE MIS-MATCH\n",
    "- 4 COMPLETE MIS-MATCH\n",
    "- 5 COMPLETE MIS-MATCH\n",
    "- 6 COMPLETE MIS-MATCH\n",
    "- COMPLETE MATCH\n",
    "- COMPLETE MIS-MATCH"
   ]
  },
  {
   "cell_type": "markdown",
   "metadata": {},
   "source": [
    "### Putting fuzzy ratio functions together to do the column addtion based on the name I specify in the function declaration. "
   ]
  },
  {
   "cell_type": "code",
   "execution_count": 7,
   "metadata": {},
   "outputs": [],
   "source": [
    "# Importing the necessary library for fuzzy string matching\n",
    "# If you don't have fuzzywuzzy installed, you can install it using pip\n",
    "# !pip install fuzzywuzzy\n",
    "# A function to calculate the fuzzy ratio between two strings in a column of dataframe\n",
    "from fuzzywuzzy import fuzz\n",
    "\n",
    "def calculate_fuzzy_ratio(row):\n",
    "    return fuzz.ratio(row['CandName_on_rec'], row['CandName_provided'])"
   ]
  },
  {
   "cell_type": "code",
   "execution_count": null,
   "metadata": {},
   "outputs": [],
   "source": [
    "df['FuzzyRatio'] = df.apply(calculate_fuzzy_ratio, axis=1)"
   ]
  },
  {
   "cell_type": "code",
   "execution_count": null,
   "metadata": {},
   "outputs": [],
   "source": [
    "df[['CandName_on_rec', 'CandName_provided', 'FuzzyRatio']].head()"
   ]
  },
  {
   "cell_type": "code",
   "execution_count": 8,
   "metadata": {},
   "outputs": [],
   "source": [
    "# Function to check similarity between two strings\n",
    "def calcaulate_set_ratio(row):\n",
    "    set_ratio = fuzz.token_set_ratio(row['CandName_on_rec'], row['CandName_provided'])\n",
    "    return set_ratio"
   ]
  },
  {
   "cell_type": "code",
   "execution_count": 9,
   "metadata": {},
   "outputs": [],
   "source": [
    "df['SetRatio'] = df.apply(calcaulate_set_ratio, axis=1)"
   ]
  },
  {
   "cell_type": "code",
   "execution_count": 10,
   "metadata": {},
   "outputs": [
    {
     "data": {
      "application/vnd.microsoft.datawrangler.viewer.v0+json": {
       "columns": [
        {
         "name": "index",
         "rawType": "int64",
         "type": "integer"
        },
        {
         "name": "CandName_on_rec",
         "rawType": "object",
         "type": "string"
        },
        {
         "name": "CandName_provided",
         "rawType": "object",
         "type": "string"
        },
        {
         "name": "SetRatio",
         "rawType": "int64",
         "type": "integer"
        }
       ],
       "ref": "9be31eae-a52f-4bfa-b702-5d025fa3e741",
       "rows": [
        [
         "0",
         "Eric Hopkins",
         "Eric Hopkisn",
         "92"
        ],
        [
         "1",
         "Michael Bryant",
         "Alyssa Bryant",
         "67"
        ],
        [
         "2",
         "Erin Weaver DVM",
         "Erin Weaver DVM Christopher",
         "100"
        ],
        [
         "3",
         "Andrew Jackson",
         "Andrew Jackson",
         "100"
        ],
        [
         "4",
         "Gregory Diaz",
         "Gregory Diaz",
         "100"
        ],
        [
         "5",
         "Erin Herrera",
         "Erin Herrera",
         "100"
        ],
        [
         "6",
         "Terry Jackson",
         "Cameron Jackson",
         "71"
        ],
        [
         "7",
         "Amanda Benton",
         "Benton Amanda",
         "100"
        ],
        [
         "8",
         "William Brady",
         "William",
         "100"
        ],
        [
         "9",
         "Elizabeth Church",
         "Mariah Church",
         "69"
        ],
        [
         "10",
         "Kathryn Larson",
         "Kathryn aLrson",
         "93"
        ],
        [
         "11",
         "Danny Carter",
         "Randy Carter",
         "83"
        ],
        [
         "12",
         "Gabrielle Summers",
         "gabrielle summers",
         "100"
        ],
        [
         "13",
         "Justin Branch",
         "justin branch",
         "100"
        ],
        [
         "14",
         "Matthew Mcdonald",
         "Matthew Mcdonald Jill",
         "100"
        ],
        [
         "15",
         "Jamie Smith",
         "Jamie Smiht",
         "91"
        ],
        [
         "16",
         "Keith Mitchell",
         "Daniel Mitchell",
         "73"
        ],
        [
         "17",
         "Bryan Christian",
         "Bryan",
         "100"
        ],
        [
         "18",
         "Rita Cunningham",
         "Rita Cunningham",
         "100"
        ],
        [
         "19",
         "Jose Roman",
         "Jose Roman Frank",
         "100"
        ],
        [
         "20",
         "Michael Phelps",
         "michael phelps",
         "100"
        ],
        [
         "21",
         "Mrs. Kristina Beasley",
         "Mrs. Kristina Beasley Henry",
         "100"
        ],
        [
         "22",
         "Matthew Odom",
         "Kevin Odom",
         "57"
        ],
        [
         "23",
         "Breanna Moody",
         "breanna moody",
         "100"
        ],
        [
         "24",
         "John Martin",
         "John Martin Courtney",
         "100"
        ],
        [
         "25",
         "Daniel Rhodes",
         "Daniel",
         "100"
        ],
        [
         "26",
         "Justin Waters",
         "Justin Waters",
         "100"
        ],
        [
         "27",
         "Amy Lawson",
         "Lawson Amy",
         "100"
        ],
        [
         "28",
         "April Williamson",
         "Jessica Williamson",
         "77"
        ],
        [
         "29",
         "Cynthia Dawson",
         "Cynthia Dawson",
         "100"
        ],
        [
         "30",
         "Sergio Bradshaw",
         "Sergio Bradshaw Philip",
         "100"
        ],
        [
         "31",
         "Andrew Monroe",
         "Andrew Monroe",
         "100"
        ],
        [
         "32",
         "Edward Bishop",
         "EDWARD BISHOP",
         "100"
        ],
        [
         "33",
         "Linda Underwood DDS",
         "linda underwood dds",
         "100"
        ],
        [
         "34",
         "Christopher Mooney",
         "Clayton Mooney",
         "62"
        ],
        [
         "35",
         "Wendy Robinson",
         "Wendy Robisnon",
         "93"
        ],
        [
         "36",
         "William Martin",
         "William Martin Francisco",
         "100"
        ],
        [
         "37",
         "Michelle Barron",
         "Crystal Barron",
         "62"
        ],
        [
         "38",
         "Emily James",
         "John James",
         "67"
        ],
        [
         "39",
         "Jason Parks",
         "Jason Parks Andrew",
         "100"
        ],
        [
         "40",
         "Stephen Marquez IV",
         "Stephen Marquez",
         "100"
        ],
        [
         "41",
         "Larry Norris",
         "Larry Norris",
         "100"
        ],
        [
         "42",
         "Lance Simon",
         "Lance Simon Daniel",
         "100"
        ],
        [
         "43",
         "Debra Mullen",
         "Debra Mullne",
         "92"
        ],
        [
         "44",
         "David Meza",
         "David Mzea",
         "90"
        ],
        [
         "45",
         "Christina Castaneda",
         "CHRISTINA CASTANEDA",
         "100"
        ],
        [
         "46",
         "Melvin Moore",
         "melvin moore",
         "100"
        ],
        [
         "47",
         "Lisa Anderson",
         "Lisa Anderson Eric",
         "100"
        ],
        [
         "48",
         "Sarah Harmon",
         "Patrick Harmon",
         "69"
        ],
        [
         "49",
         "Kelsey Macdonald",
         "Joseph Macdonald",
         "75"
        ]
       ],
       "shape": {
        "columns": 3,
        "rows": 1000
       }
      },
      "text/html": [
       "<div>\n",
       "<style scoped>\n",
       "    .dataframe tbody tr th:only-of-type {\n",
       "        vertical-align: middle;\n",
       "    }\n",
       "\n",
       "    .dataframe tbody tr th {\n",
       "        vertical-align: top;\n",
       "    }\n",
       "\n",
       "    .dataframe thead th {\n",
       "        text-align: right;\n",
       "    }\n",
       "</style>\n",
       "<table border=\"1\" class=\"dataframe\">\n",
       "  <thead>\n",
       "    <tr style=\"text-align: right;\">\n",
       "      <th></th>\n",
       "      <th>CandName_on_rec</th>\n",
       "      <th>CandName_provided</th>\n",
       "      <th>SetRatio</th>\n",
       "    </tr>\n",
       "  </thead>\n",
       "  <tbody>\n",
       "    <tr>\n",
       "      <th>0</th>\n",
       "      <td>Eric Hopkins</td>\n",
       "      <td>Eric Hopkisn</td>\n",
       "      <td>92</td>\n",
       "    </tr>\n",
       "    <tr>\n",
       "      <th>1</th>\n",
       "      <td>Michael Bryant</td>\n",
       "      <td>Alyssa Bryant</td>\n",
       "      <td>67</td>\n",
       "    </tr>\n",
       "    <tr>\n",
       "      <th>2</th>\n",
       "      <td>Erin Weaver DVM</td>\n",
       "      <td>Erin Weaver DVM Christopher</td>\n",
       "      <td>100</td>\n",
       "    </tr>\n",
       "    <tr>\n",
       "      <th>3</th>\n",
       "      <td>Andrew Jackson</td>\n",
       "      <td>Andrew Jackson</td>\n",
       "      <td>100</td>\n",
       "    </tr>\n",
       "    <tr>\n",
       "      <th>4</th>\n",
       "      <td>Gregory Diaz</td>\n",
       "      <td>Gregory Diaz</td>\n",
       "      <td>100</td>\n",
       "    </tr>\n",
       "    <tr>\n",
       "      <th>...</th>\n",
       "      <td>...</td>\n",
       "      <td>...</td>\n",
       "      <td>...</td>\n",
       "    </tr>\n",
       "    <tr>\n",
       "      <th>995</th>\n",
       "      <td>Ruth Moon DDS</td>\n",
       "      <td>Ruth Moon</td>\n",
       "      <td>100</td>\n",
       "    </tr>\n",
       "    <tr>\n",
       "      <th>996</th>\n",
       "      <td>Scott Powell</td>\n",
       "      <td>SCOTT POWELL</td>\n",
       "      <td>100</td>\n",
       "    </tr>\n",
       "    <tr>\n",
       "      <th>997</th>\n",
       "      <td>Felicia Coleman</td>\n",
       "      <td>Felicia</td>\n",
       "      <td>100</td>\n",
       "    </tr>\n",
       "    <tr>\n",
       "      <th>998</th>\n",
       "      <td>Alexandra Johnston</td>\n",
       "      <td>Alexandra</td>\n",
       "      <td>100</td>\n",
       "    </tr>\n",
       "    <tr>\n",
       "      <th>999</th>\n",
       "      <td>Michael Butler</td>\n",
       "      <td>Michael Butler</td>\n",
       "      <td>100</td>\n",
       "    </tr>\n",
       "  </tbody>\n",
       "</table>\n",
       "<p>1000 rows × 3 columns</p>\n",
       "</div>"
      ],
      "text/plain": [
       "        CandName_on_rec            CandName_provided  SetRatio\n",
       "0          Eric Hopkins                 Eric Hopkisn        92\n",
       "1        Michael Bryant                Alyssa Bryant        67\n",
       "2       Erin Weaver DVM  Erin Weaver DVM Christopher       100\n",
       "3        Andrew Jackson               Andrew Jackson       100\n",
       "4          Gregory Diaz                 Gregory Diaz       100\n",
       "..                  ...                          ...       ...\n",
       "995       Ruth Moon DDS                    Ruth Moon       100\n",
       "996        Scott Powell                 SCOTT POWELL       100\n",
       "997     Felicia Coleman                      Felicia       100\n",
       "998  Alexandra Johnston                    Alexandra       100\n",
       "999      Michael Butler               Michael Butler       100\n",
       "\n",
       "[1000 rows x 3 columns]"
      ]
     },
     "execution_count": 10,
     "metadata": {},
     "output_type": "execute_result"
    }
   ],
   "source": [
    "df[['CandName_on_rec', 'CandName_provided', 'SetRatio' ]]"
   ]
  },
  {
   "cell_type": "code",
   "execution_count": 11,
   "metadata": {},
   "outputs": [],
   "source": [
    "# Function to check similarity between two strings\n",
    "#from fuzzywuzzy import fuzz\n",
    "def calculate_sorted_ratio(row):\n",
    "    sorted_ratio = fuzz.token_sort_ratio(row['CandName_on_rec'], row['CandName_provided'])\n",
    "    return sorted_ratio"
   ]
  },
  {
   "cell_type": "code",
   "execution_count": 12,
   "metadata": {},
   "outputs": [],
   "source": [
    "df['SortedRatio'] = df.apply(calculate_sorted_ratio, axis=1)"
   ]
  },
  {
   "cell_type": "code",
   "execution_count": 13,
   "metadata": {},
   "outputs": [
    {
     "data": {
      "application/vnd.microsoft.datawrangler.viewer.v0+json": {
       "columns": [
        {
         "name": "index",
         "rawType": "int64",
         "type": "integer"
        },
        {
         "name": "CandName_on_rec",
         "rawType": "object",
         "type": "string"
        },
        {
         "name": "CandName_provided",
         "rawType": "object",
         "type": "string"
        },
        {
         "name": "SortedRatio",
         "rawType": "int64",
         "type": "integer"
        }
       ],
       "ref": "d4476123-d70e-463f-ae71-a52e6b2c37e6",
       "rows": [
        [
         "0",
         "Eric Hopkins",
         "Eric Hopkisn",
         "92"
        ],
        [
         "1",
         "Michael Bryant",
         "Alyssa Bryant",
         "44"
        ],
        [
         "2",
         "Erin Weaver DVM",
         "Erin Weaver DVM Christopher",
         "71"
        ],
        [
         "3",
         "Andrew Jackson",
         "Andrew Jackson",
         "100"
        ],
        [
         "4",
         "Gregory Diaz",
         "Gregory Diaz",
         "100"
        ],
        [
         "5",
         "Erin Herrera",
         "Erin Herrera",
         "100"
        ],
        [
         "6",
         "Terry Jackson",
         "Cameron Jackson",
         "50"
        ],
        [
         "7",
         "Amanda Benton",
         "Benton Amanda",
         "100"
        ],
        [
         "8",
         "William Brady",
         "William",
         "70"
        ],
        [
         "9",
         "Elizabeth Church",
         "Mariah Church",
         "69"
        ],
        [
         "10",
         "Kathryn Larson",
         "Kathryn aLrson",
         "50"
        ],
        [
         "11",
         "Danny Carter",
         "Randy Carter",
         "83"
        ],
        [
         "12",
         "Gabrielle Summers",
         "gabrielle summers",
         "100"
        ],
        [
         "13",
         "Justin Branch",
         "justin branch",
         "100"
        ],
        [
         "14",
         "Matthew Mcdonald",
         "Matthew Mcdonald Jill",
         "86"
        ],
        [
         "15",
         "Jamie Smith",
         "Jamie Smiht",
         "91"
        ],
        [
         "16",
         "Keith Mitchell",
         "Daniel Mitchell",
         "69"
        ],
        [
         "17",
         "Bryan Christian",
         "Bryan",
         "50"
        ],
        [
         "18",
         "Rita Cunningham",
         "Rita Cunningham",
         "100"
        ],
        [
         "19",
         "Jose Roman",
         "Jose Roman Frank",
         "77"
        ],
        [
         "20",
         "Michael Phelps",
         "michael phelps",
         "100"
        ],
        [
         "21",
         "Mrs. Kristina Beasley",
         "Mrs. Kristina Beasley Henry",
         "87"
        ],
        [
         "22",
         "Matthew Odom",
         "Kevin Odom",
         "55"
        ],
        [
         "23",
         "Breanna Moody",
         "breanna moody",
         "100"
        ],
        [
         "24",
         "John Martin",
         "John Martin Courtney",
         "71"
        ],
        [
         "25",
         "Daniel Rhodes",
         "Daniel",
         "63"
        ],
        [
         "26",
         "Justin Waters",
         "Justin Waters",
         "100"
        ],
        [
         "27",
         "Amy Lawson",
         "Lawson Amy",
         "100"
        ],
        [
         "28",
         "April Williamson",
         "Jessica Williamson",
         "71"
        ],
        [
         "29",
         "Cynthia Dawson",
         "Cynthia Dawson",
         "100"
        ],
        [
         "30",
         "Sergio Bradshaw",
         "Sergio Bradshaw Philip",
         "81"
        ],
        [
         "31",
         "Andrew Monroe",
         "Andrew Monroe",
         "100"
        ],
        [
         "32",
         "Edward Bishop",
         "EDWARD BISHOP",
         "100"
        ],
        [
         "33",
         "Linda Underwood DDS",
         "linda underwood dds",
         "100"
        ],
        [
         "34",
         "Christopher Mooney",
         "Clayton Mooney",
         "62"
        ],
        [
         "35",
         "Wendy Robinson",
         "Wendy Robisnon",
         "93"
        ],
        [
         "36",
         "William Martin",
         "William Martin Francisco",
         "74"
        ],
        [
         "37",
         "Michelle Barron",
         "Crystal Barron",
         "62"
        ],
        [
         "38",
         "Emily James",
         "John James",
         "48"
        ],
        [
         "39",
         "Jason Parks",
         "Jason Parks Andrew",
         "76"
        ],
        [
         "40",
         "Stephen Marquez IV",
         "Stephen Marquez",
         "91"
        ],
        [
         "41",
         "Larry Norris",
         "Larry Norris",
         "100"
        ],
        [
         "42",
         "Lance Simon",
         "Lance Simon Daniel",
         "76"
        ],
        [
         "43",
         "Debra Mullen",
         "Debra Mullne",
         "92"
        ],
        [
         "44",
         "David Meza",
         "David Mzea",
         "90"
        ],
        [
         "45",
         "Christina Castaneda",
         "CHRISTINA CASTANEDA",
         "100"
        ],
        [
         "46",
         "Melvin Moore",
         "melvin moore",
         "100"
        ],
        [
         "47",
         "Lisa Anderson",
         "Lisa Anderson Eric",
         "84"
        ],
        [
         "48",
         "Sarah Harmon",
         "Patrick Harmon",
         "69"
        ],
        [
         "49",
         "Kelsey Macdonald",
         "Joseph Macdonald",
         "75"
        ]
       ],
       "shape": {
        "columns": 3,
        "rows": 1000
       }
      },
      "text/html": [
       "<div>\n",
       "<style scoped>\n",
       "    .dataframe tbody tr th:only-of-type {\n",
       "        vertical-align: middle;\n",
       "    }\n",
       "\n",
       "    .dataframe tbody tr th {\n",
       "        vertical-align: top;\n",
       "    }\n",
       "\n",
       "    .dataframe thead th {\n",
       "        text-align: right;\n",
       "    }\n",
       "</style>\n",
       "<table border=\"1\" class=\"dataframe\">\n",
       "  <thead>\n",
       "    <tr style=\"text-align: right;\">\n",
       "      <th></th>\n",
       "      <th>CandName_on_rec</th>\n",
       "      <th>CandName_provided</th>\n",
       "      <th>SortedRatio</th>\n",
       "    </tr>\n",
       "  </thead>\n",
       "  <tbody>\n",
       "    <tr>\n",
       "      <th>0</th>\n",
       "      <td>Eric Hopkins</td>\n",
       "      <td>Eric Hopkisn</td>\n",
       "      <td>92</td>\n",
       "    </tr>\n",
       "    <tr>\n",
       "      <th>1</th>\n",
       "      <td>Michael Bryant</td>\n",
       "      <td>Alyssa Bryant</td>\n",
       "      <td>44</td>\n",
       "    </tr>\n",
       "    <tr>\n",
       "      <th>2</th>\n",
       "      <td>Erin Weaver DVM</td>\n",
       "      <td>Erin Weaver DVM Christopher</td>\n",
       "      <td>71</td>\n",
       "    </tr>\n",
       "    <tr>\n",
       "      <th>3</th>\n",
       "      <td>Andrew Jackson</td>\n",
       "      <td>Andrew Jackson</td>\n",
       "      <td>100</td>\n",
       "    </tr>\n",
       "    <tr>\n",
       "      <th>4</th>\n",
       "      <td>Gregory Diaz</td>\n",
       "      <td>Gregory Diaz</td>\n",
       "      <td>100</td>\n",
       "    </tr>\n",
       "    <tr>\n",
       "      <th>...</th>\n",
       "      <td>...</td>\n",
       "      <td>...</td>\n",
       "      <td>...</td>\n",
       "    </tr>\n",
       "    <tr>\n",
       "      <th>995</th>\n",
       "      <td>Ruth Moon DDS</td>\n",
       "      <td>Ruth Moon</td>\n",
       "      <td>82</td>\n",
       "    </tr>\n",
       "    <tr>\n",
       "      <th>996</th>\n",
       "      <td>Scott Powell</td>\n",
       "      <td>SCOTT POWELL</td>\n",
       "      <td>100</td>\n",
       "    </tr>\n",
       "    <tr>\n",
       "      <th>997</th>\n",
       "      <td>Felicia Coleman</td>\n",
       "      <td>Felicia</td>\n",
       "      <td>64</td>\n",
       "    </tr>\n",
       "    <tr>\n",
       "      <th>998</th>\n",
       "      <td>Alexandra Johnston</td>\n",
       "      <td>Alexandra</td>\n",
       "      <td>67</td>\n",
       "    </tr>\n",
       "    <tr>\n",
       "      <th>999</th>\n",
       "      <td>Michael Butler</td>\n",
       "      <td>Michael Butler</td>\n",
       "      <td>100</td>\n",
       "    </tr>\n",
       "  </tbody>\n",
       "</table>\n",
       "<p>1000 rows × 3 columns</p>\n",
       "</div>"
      ],
      "text/plain": [
       "        CandName_on_rec            CandName_provided  SortedRatio\n",
       "0          Eric Hopkins                 Eric Hopkisn           92\n",
       "1        Michael Bryant                Alyssa Bryant           44\n",
       "2       Erin Weaver DVM  Erin Weaver DVM Christopher           71\n",
       "3        Andrew Jackson               Andrew Jackson          100\n",
       "4          Gregory Diaz                 Gregory Diaz          100\n",
       "..                  ...                          ...          ...\n",
       "995       Ruth Moon DDS                    Ruth Moon           82\n",
       "996        Scott Powell                 SCOTT POWELL          100\n",
       "997     Felicia Coleman                      Felicia           64\n",
       "998  Alexandra Johnston                    Alexandra           67\n",
       "999      Michael Butler               Michael Butler          100\n",
       "\n",
       "[1000 rows x 3 columns]"
      ]
     },
     "execution_count": 13,
     "metadata": {},
     "output_type": "execute_result"
    }
   ],
   "source": [
    "df[['CandName_on_rec', 'CandName_provided', 'SortedRatio']]"
   ]
  },
  {
   "cell_type": "code",
   "execution_count": 14,
   "metadata": {},
   "outputs": [
    {
     "data": {
      "application/vnd.microsoft.datawrangler.viewer.v0+json": {
       "columns": [
        {
         "name": "index",
         "rawType": "int64",
         "type": "integer"
        },
        {
         "name": "AdmissionNumber",
         "rawType": "object",
         "type": "string"
        },
        {
         "name": "IndexNumber",
         "rawType": "object",
         "type": "string"
        },
        {
         "name": "ExamMonth",
         "rawType": "object",
         "type": "string"
        },
        {
         "name": "ExamYear",
         "rawType": "object",
         "type": "string"
        },
        {
         "name": "DOB_on_rec",
         "rawType": "object",
         "type": "string"
        },
        {
         "name": "CandName_on_rec",
         "rawType": "object",
         "type": "string"
        },
        {
         "name": "CandName_provided",
         "rawType": "object",
         "type": "string"
        },
        {
         "name": "DOB_provided",
         "rawType": "object",
         "type": "string"
        },
        {
         "name": "SetRatio",
         "rawType": "int64",
         "type": "integer"
        },
        {
         "name": "SortedRatio",
         "rawType": "int64",
         "type": "integer"
        }
       ],
       "ref": "1f3522ae-8750-4139-a55c-cd085761e27e",
       "rows": [
        [
         "995",
         "738701",
         "6620",
         "June",
         "2021",
         "2005-09-19",
         "Ruth Moon DDS",
         "Ruth Moon",
         "2005-09-19",
         "100",
         "82"
        ],
        [
         "996",
         "422524",
         "5397",
         "June",
         "2017",
         "2000-04-20",
         "Scott Powell",
         "SCOTT POWELL",
         "2000-04-20",
         "100",
         "100"
        ],
        [
         "997",
         "742271",
         "2830",
         "November",
         "2015",
         "2003-03-08",
         "Felicia Coleman",
         "Felicia",
         "2003-03-13",
         "100",
         "64"
        ],
        [
         "998",
         "210729",
         "4363",
         "November",
         "2016",
         "2007-08-09",
         "Alexandra Johnston",
         "Alexandra",
         "2007-08-10",
         "100",
         "67"
        ],
        [
         "999",
         "953140",
         "8219",
         "June",
         "2017",
         "2008-03-19",
         "Michael Butler",
         "Michael Butler",
         "2008-03-20",
         "100",
         "100"
        ]
       ],
       "shape": {
        "columns": 10,
        "rows": 5
       }
      },
      "text/html": [
       "<div>\n",
       "<style scoped>\n",
       "    .dataframe tbody tr th:only-of-type {\n",
       "        vertical-align: middle;\n",
       "    }\n",
       "\n",
       "    .dataframe tbody tr th {\n",
       "        vertical-align: top;\n",
       "    }\n",
       "\n",
       "    .dataframe thead th {\n",
       "        text-align: right;\n",
       "    }\n",
       "</style>\n",
       "<table border=\"1\" class=\"dataframe\">\n",
       "  <thead>\n",
       "    <tr style=\"text-align: right;\">\n",
       "      <th></th>\n",
       "      <th>AdmissionNumber</th>\n",
       "      <th>IndexNumber</th>\n",
       "      <th>ExamMonth</th>\n",
       "      <th>ExamYear</th>\n",
       "      <th>DOB_on_rec</th>\n",
       "      <th>CandName_on_rec</th>\n",
       "      <th>CandName_provided</th>\n",
       "      <th>DOB_provided</th>\n",
       "      <th>SetRatio</th>\n",
       "      <th>SortedRatio</th>\n",
       "    </tr>\n",
       "  </thead>\n",
       "  <tbody>\n",
       "    <tr>\n",
       "      <th>995</th>\n",
       "      <td>738701</td>\n",
       "      <td>6620</td>\n",
       "      <td>June</td>\n",
       "      <td>2021</td>\n",
       "      <td>2005-09-19</td>\n",
       "      <td>Ruth Moon DDS</td>\n",
       "      <td>Ruth Moon</td>\n",
       "      <td>2005-09-19</td>\n",
       "      <td>100</td>\n",
       "      <td>82</td>\n",
       "    </tr>\n",
       "    <tr>\n",
       "      <th>996</th>\n",
       "      <td>422524</td>\n",
       "      <td>5397</td>\n",
       "      <td>June</td>\n",
       "      <td>2017</td>\n",
       "      <td>2000-04-20</td>\n",
       "      <td>Scott Powell</td>\n",
       "      <td>SCOTT POWELL</td>\n",
       "      <td>2000-04-20</td>\n",
       "      <td>100</td>\n",
       "      <td>100</td>\n",
       "    </tr>\n",
       "    <tr>\n",
       "      <th>997</th>\n",
       "      <td>742271</td>\n",
       "      <td>2830</td>\n",
       "      <td>November</td>\n",
       "      <td>2015</td>\n",
       "      <td>2003-03-08</td>\n",
       "      <td>Felicia Coleman</td>\n",
       "      <td>Felicia</td>\n",
       "      <td>2003-03-13</td>\n",
       "      <td>100</td>\n",
       "      <td>64</td>\n",
       "    </tr>\n",
       "    <tr>\n",
       "      <th>998</th>\n",
       "      <td>210729</td>\n",
       "      <td>4363</td>\n",
       "      <td>November</td>\n",
       "      <td>2016</td>\n",
       "      <td>2007-08-09</td>\n",
       "      <td>Alexandra Johnston</td>\n",
       "      <td>Alexandra</td>\n",
       "      <td>2007-08-10</td>\n",
       "      <td>100</td>\n",
       "      <td>67</td>\n",
       "    </tr>\n",
       "    <tr>\n",
       "      <th>999</th>\n",
       "      <td>953140</td>\n",
       "      <td>8219</td>\n",
       "      <td>June</td>\n",
       "      <td>2017</td>\n",
       "      <td>2008-03-19</td>\n",
       "      <td>Michael Butler</td>\n",
       "      <td>Michael Butler</td>\n",
       "      <td>2008-03-20</td>\n",
       "      <td>100</td>\n",
       "      <td>100</td>\n",
       "    </tr>\n",
       "  </tbody>\n",
       "</table>\n",
       "</div>"
      ],
      "text/plain": [
       "    AdmissionNumber IndexNumber ExamMonth ExamYear  DOB_on_rec  \\\n",
       "995          738701        6620      June     2021  2005-09-19   \n",
       "996          422524        5397      June     2017  2000-04-20   \n",
       "997          742271        2830  November     2015  2003-03-08   \n",
       "998          210729        4363  November     2016  2007-08-09   \n",
       "999          953140        8219      June     2017  2008-03-19   \n",
       "\n",
       "        CandName_on_rec CandName_provided DOB_provided  SetRatio  SortedRatio  \n",
       "995       Ruth Moon DDS         Ruth Moon   2005-09-19       100           82  \n",
       "996        Scott Powell      SCOTT POWELL   2000-04-20       100          100  \n",
       "997     Felicia Coleman           Felicia   2003-03-13       100           64  \n",
       "998  Alexandra Johnston         Alexandra   2007-08-10       100           67  \n",
       "999      Michael Butler    Michael Butler   2008-03-20       100          100  "
      ]
     },
     "execution_count": 14,
     "metadata": {},
     "output_type": "execute_result"
    }
   ],
   "source": [
    "df.tail()"
   ]
  },
  {
   "cell_type": "markdown",
   "metadata": {},
   "source": []
  },
  {
   "cell_type": "markdown",
   "metadata": {},
   "source": [
    "## Feature Engineering \n",
    "Conditions contains the if statements, each decision is a tuple and what to print if the decision hold true is contained in the choices list.\n",
    "The first conditions is that if the the column containing the PercentIfSorted is equal to 100 and the DOB_provided is equal to DOB_on_rec, the choice would be completelty matched. "
   ]
  },
  {
   "cell_type": "code",
   "execution_count": null,
   "metadata": {},
   "outputs": [],
   "source": [
    "conditions = [\n",
    "    ((df['SortedRatio'] == 100) & (df['DOB_provided'] == df['DOB_on_rec'])), \n",
    "    ((df['SortedRatio']== 100) & (df['DOB_provided'] != df['DOB_on_rec'])), \n",
    "    ((df['SortedRatio'] >= 70) & (df['DOB_provided'] == df['DOB_on_rec'])), \n",
    "    ((df['SortedRatio'] >= 70) & (df['DOB_provided'] != df['DOB_on_rec'])), \n",
    "    ((df['SortedRatio'] >= 60) & (df['DOB_provided'] == df['DOB_on_rec'])), \n",
    "    ((df['SortedRatio'] >= 60) & (df['DOB_provided'] != df['DOB_on_rec'])), \n",
    "    (df['SortedRatio']<= 59) \n",
    "    ]\n",
    "\n",
    "choices = [\n",
    "    ('Completely Match'),\n",
    "    ('Name completely Match but DOB do not'),\n",
    "    ('Names almost Matches and DOB also Matchess'), \n",
    "    ('Names almost matches but DOB do not'), \n",
    "    ('One contain the other and DOB matches'), \n",
    "    ('One Contains the other and DOB do not match'), \n",
    "    ('Do not match') \n",
    "    ]"
   ]
  },
  {
   "cell_type": "code",
   "execution_count": null,
   "metadata": {},
   "outputs": [],
   "source": [
    "df['Decision'] = np.select(conditions, choices)"
   ]
  },
  {
   "cell_type": "code",
   "execution_count": null,
   "metadata": {},
   "outputs": [],
   "source": [
    "df[['CandName_on_rec', 'CandName_provided','Decision']]"
   ]
  },
  {
   "cell_type": "code",
   "execution_count": null,
   "metadata": {},
   "outputs": [],
   "source": [
    "# Unpack the unique values into a list\n",
    "# This will give you a list of unique decisions made in the DataFrame\n",
    "unique_decision = [* set(df['Decision'])]"
   ]
  },
  {
   "cell_type": "code",
   "execution_count": null,
   "metadata": {},
   "outputs": [],
   "source": [
    "unique_decision"
   ]
  },
  {
   "cell_type": "code",
   "execution_count": null,
   "metadata": {},
   "outputs": [],
   "source": [
    "import re\n",
    "def clean_sheet_name(name):\n",
    "    # Replace invalid characters with underscores\n",
    "    cleaned_name = re.sub(r'[^\\w\\s]', '_', name)\n",
    "    return cleaned_name[:31]  # Ensure the name is no longer than 31 characters\n",
    "\n",
    "\n",
    "# create a excel writer object\n",
    "# Writing all decision based on the matching to an excel workbook with different sheets of \n",
    "with pd.ExcelWriter(\"workbook.xls\") as writer:\n",
    "    for decision in unique_decision:\n",
    "        cleaned_name = clean_sheet_name(decision)\n",
    "        decision_data = df[df['Decision'] == decision]\n",
    "        decision_data.to_excel(writer, sheet_name=cleaned_name, index=False)"
   ]
  },
  {
   "cell_type": "code",
   "execution_count": null,
   "metadata": {},
   "outputs": [],
   "source": [
    "df.to_excel('checkFuzzy/allwithDOB.xls', index=False)"
   ]
  }
 ],
 "metadata": {
  "kernelspec": {
   "display_name": "Python 3",
   "language": "python",
   "name": "python3"
  },
  "language_info": {
   "codemirror_mode": {
    "name": "ipython",
    "version": 3
   },
   "file_extension": ".py",
   "mimetype": "text/x-python",
   "name": "python",
   "nbconvert_exporter": "python",
   "pygments_lexer": "ipython3",
   "version": "3.12.0"
  }
 },
 "nbformat": 4,
 "nbformat_minor": 2
}
